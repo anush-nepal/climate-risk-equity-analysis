{
 "cells": [
  {
   "cell_type": "markdown",
   "id": "6f8201b1-155b-47a3-843f-d5a1f25fcbe1",
   "metadata": {},
   "source": [
    "# Climate Risk Premium Analysis: Data Cleaning & Feature Engineering\n",
    "\n",
    "**Project**: Analyzing Climate Risk Premiums in US Equity Markets  \n",
    "**Notebook**: 2. Data Cleaning & Feature Engineering  \n",
    "**Author**: Anush Nepal\n",
    "\n",
    "## Objective\n",
    "Transform raw stock price data into analysis-ready features for climate risk analysis:\n",
    "- Calculate **daily returns** and **volatility measures**\n",
    "- Create **event windows** around climate events\n",
    "- Generate **sector performance metrics**\n",
    "- Prepare data for **event study analysis**\n",
    "\n",
    "## Data Overview\n",
    "Starting with **90,495 records** from **45 companies** across 3 climate-sensitive sectors (2017-2024)."
   ]
  },
  {
   "cell_type": "markdown",
   "id": "87e084ee-242b-4597-ba60-f993cd2f102d",
   "metadata": {},
   "source": [
    "## 1. Importing Libraries & Loading Data\n",
    "Loading cleaned dataset and setting up the analysis environment."
   ]
  },
  {
   "cell_type": "code",
   "execution_count": 2,
   "id": "ffe76ab2-3699-489b-8372-568edea18a06",
   "metadata": {},
   "outputs": [
    {
     "name": "stdout",
     "output_type": "stream",
     "text": [
      "Libraries imported successfully.\n",
      "Analysis date: 2025-08-13\n"
     ]
    }
   ],
   "source": [
    "import pandas as pd\n",
    "import numpy as np\n",
    "import matplotlib.pyplot as plt\n",
    "import seaborn as sns\n",
    "from datetime import datetime, timedelta\n",
    "import warnings\n",
    "warnings.filterwarnings('ignore')\n",
    "\n",
    "pd.set_option('display.max_columns', None)\n",
    "pd.set_option('display.float_format', '{:.4f}'.format)\n",
    "\n",
    "plt.style.use('seaborn-v0_8')\n",
    "sns.set_palette(\"husl\")\n",
    "print(\"Libraries imported successfully.\")\n",
    "print(f\"Analysis date: {datetime.now().strftime('%Y-%m-%d')}\")"
   ]
  },
  {
   "cell_type": "code",
   "execution_count": null,
   "id": "d719f4d6-bdcd-45a4-ba5f-e5f950075f7f",
   "metadata": {},
   "outputs": [],
   "source": []
  }
 ],
 "metadata": {
  "kernelspec": {
   "display_name": "Python 3 (ipykernel)",
   "language": "python",
   "name": "python3"
  },
  "language_info": {
   "codemirror_mode": {
    "name": "ipython",
    "version": 3
   },
   "file_extension": ".py",
   "mimetype": "text/x-python",
   "name": "python",
   "nbconvert_exporter": "python",
   "pygments_lexer": "ipython3",
   "version": "3.13.3"
  }
 },
 "nbformat": 4,
 "nbformat_minor": 5
}
