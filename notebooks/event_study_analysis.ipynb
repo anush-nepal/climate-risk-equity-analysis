{
 "cells": [
  {
   "cell_type": "markdown",
   "id": "e0444b38-6191-464e-a093-7c63318e3c06",
   "metadata": {},
   "source": [
    "# Climate Risk Premium Analysis: Event Study Analysis\n",
    "\n",
    "**Project**: Analyzing Climate Risk Premiums in US Equity Markets  \n",
    "**Notebook**: 3. Event Study Analysis  \n",
    "**Author**: Anush Nepal  \n",
    "\n",
    "## Objective\n",
    "Test the statistical significance of market reactions to climate events using formal event study methodology: - **Hypothesis testing**: Are returns during climate events significantly different from normal periods?  \n",
    "- **Abnormal return calculation**: Measure excess returns beyond normal market expectations  \n",
    "- **Sector-specific analysis**: Test if different sectors respond differently to climate events  \n",
    "- **Statistical confidence**: Determine if observed patterns are statistically meaningful\n",
    "\n",
    "Event study analysis is the standard methodology in finance research for measuring market reactions to specific events. We'll test whether climate events create statistically significant abnormal returns."
   ]
  }
 ],
 "metadata": {
  "kernelspec": {
   "display_name": "Python 3 (ipykernel)",
   "language": "python",
   "name": "python3"
  },
  "language_info": {
   "codemirror_mode": {
    "name": "ipython",
    "version": 3
   },
   "file_extension": ".py",
   "mimetype": "text/x-python",
   "name": "python",
   "nbconvert_exporter": "python",
   "pygments_lexer": "ipython3",
   "version": "3.13.3"
  }
 },
 "nbformat": 4,
 "nbformat_minor": 5
}
