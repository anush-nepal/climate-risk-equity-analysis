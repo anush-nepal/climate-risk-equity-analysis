{
 "cells": [
  {
   "cell_type": "markdown",
   "id": "e0444b38-6191-464e-a093-7c63318e3c06",
   "metadata": {},
   "source": [
    "# Climate Risk Premium Analysis: Event Study Analysis\n",
    "\n",
    "**Project**: Analyzing Climate Risk Premiums in US Equity Markets  \n",
    "**Notebook**: 3. Event Study Analysis  \n",
    "**Author**: Anush Nepal  \n",
    "\n",
    "## Objective\n",
    "Test the statistical significance of market reactions to climate events using formal event study methodology: - **Hypothesis testing**: Are returns during climate events significantly different from normal periods?  \n",
    "- **Abnormal return calculation**: Measure excess returns beyond normal market expectations  \n",
    "- **Sector-specific analysis**: Test if different sectors respond differently to climate events  \n",
    "- **Statistical confidence**: Determine if observed patterns are statistically meaningful\n",
    "\n",
    "Event study analysis is the standard methodology in finance research for measuring market reactions to specific events. We'll test whether climate events create statistically significant abnormal returns."
   ]
  },
  {
   "cell_type": "markdown",
   "id": "e0cd9c51-768b-4ec6-8fc8-fefbd764c538",
   "metadata": {},
   "source": [
    "## 1. Importing Libraries & Loading Data\n",
    "Loading our processed datasets and statistical testing libraries"
   ]
  },
  {
   "cell_type": "code",
   "execution_count": 1,
   "id": "c668fc5c-6ef9-4476-a06a-809d2404908d",
   "metadata": {},
   "outputs": [
    {
     "name": "stdout",
     "output_type": "stream",
     "text": [
      "Libraries imported successfully\n",
      "Analysis date: 2025-08-21\n"
     ]
    }
   ],
   "source": [
    "import pandas as pd\n",
    "import numpy as np\n",
    "from scipy import stats\n",
    "from scipy.stats import ttest_1samp, ttest_ind, normaltest\n",
    "import matplotlib.pyplot as plt\n",
    "import seaborn as sns\n",
    "from datetime import datetime\n",
    "import warnings\n",
    "warnings.filterwarnings('ignore')\n",
    "\n",
    "pd.set_option('display.max_columns', None)\n",
    "pd.set_option('display.float_format', '{:.6f}'.format)\n",
    "plt.style.use('seaborn-v0_8')\n",
    "sns.set_palette(\"husl\")\n",
    "\n",
    "print(\"Libraries imported successfully\")\n",
    "print(f\"Analysis date: {datetime.now().strftime('%Y-%m-%d')}\")"
   ]
  },
  {
   "cell_type": "code",
   "execution_count": 2,
   "id": "0bc251cb-61c7-489b-9823-cbeeb86d9397",
   "metadata": {},
   "outputs": [
    {
     "name": "stdout",
     "output_type": "stream",
     "text": [
      "Loading processed datasets...\n",
      "Main dataset loaded: (90424, 18)\n",
      "Event analysis data loaded: (4319, 23)\n",
      "Sector returns loaded: (2010, 4)\n",
      "Date range: 2017-01-04 to 2024-12-30\n",
      "Climate events in dataset: 7\n"
     ]
    }
   ],
   "source": [
    "print(\"Loading processed datasets...\")\n",
    "\n",
    "df = pd.read_csv('../data/processed/stock_data_with_features.csv')\n",
    "df['Date'] = pd.to_datetime(df['Date'])\n",
    "\n",
    "event_df = pd.read_csv('../data/processed/climate_event_analysis.csv')\n",
    "event_df['Date'] = pd.to_datetime(event_df['Date'])\n",
    "event_df['Event_Date'] = pd.to_datetime(event_df['Event_Date'])\n",
    "\n",
    "sector_returns = pd.read_csv('../data/processed/sector_daily_returns.csv')\n",
    "sector_returns['Date'] = pd.to_datetime(sector_returns['Date'])\n",
    "\n",
    "print(f\"Main dataset loaded: {df.shape}\")\n",
    "print(f\"Event analysis data loaded: {event_df.shape}\")\n",
    "print(f\"Sector returns loaded: {sector_returns.shape}\")\n",
    "print(f\"Date range: {df['Date'].min().date()} to {df['Date'].max().date()}\")\n",
    "print(f\"Climate events in dataset: {event_df['Event_Name'].nunique()}\")"
   ]
  }
 ],
 "metadata": {
  "kernelspec": {
   "display_name": "Python 3 (ipykernel)",
   "language": "python",
   "name": "python3"
  },
  "language_info": {
   "codemirror_mode": {
    "name": "ipython",
    "version": 3
   },
   "file_extension": ".py",
   "mimetype": "text/x-python",
   "name": "python",
   "nbconvert_exporter": "python",
   "pygments_lexer": "ipython3",
   "version": "3.13.3"
  }
 },
 "nbformat": 4,
 "nbformat_minor": 5
}
